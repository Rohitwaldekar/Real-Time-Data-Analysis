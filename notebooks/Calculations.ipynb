{
 "cells": [
  {
   "cell_type": "code",
   "execution_count": 4,
   "metadata": {},
   "outputs": [],
   "source": [
    "import pathlib\n",
    "import numpy as np \n",
    "import pandas as pd \n",
    "from datetime import datetime\n",
    "from statsmodels.tsa.arima.model import ARIMA\n",
    "\n",
    "import matplotlib.pyplot as plt\n",
    "from statsmodels.tsa.stattools import pacf, acf\n",
    "from statsmodels.graphics.tsaplots import plot_acf, plot_pacf\n",
    "\n",
    "import seaborn as sb\n",
    "import matplotlib.pyplot as plt"
   ]
  },
  {
   "cell_type": "code",
   "execution_count": 15,
   "metadata": {},
   "outputs": [],
   "source": [
    "df = pd.read_csv('../data/raw/data.csv',parse_dates=True, header=None)\n",
    "df.columns = ['Datetime','Close']"
   ]
  },
  {
   "cell_type": "code",
   "execution_count": 16,
   "metadata": {},
   "outputs": [
    {
     "name": "stdout",
     "output_type": "stream",
     "text": [
      "<class 'pandas.core.frame.DataFrame'>\n",
      "RangeIndex: 3461 entries, 0 to 3460\n",
      "Data columns (total 2 columns):\n",
      " #   Column    Non-Null Count  Dtype \n",
      "---  ------    --------------  ----- \n",
      " 0   Datetime  3461 non-null   object\n",
      " 1   Close     3461 non-null   int64 \n",
      "dtypes: int64(1), object(1)\n",
      "memory usage: 54.2+ KB\n"
     ]
    }
   ],
   "source": [
    "df.info()"
   ]
  },
  {
   "cell_type": "code",
   "execution_count": 17,
   "metadata": {},
   "outputs": [
    {
     "data": {
      "text/html": [
       "<div>\n",
       "<style scoped>\n",
       "    .dataframe tbody tr th:only-of-type {\n",
       "        vertical-align: middle;\n",
       "    }\n",
       "\n",
       "    .dataframe tbody tr th {\n",
       "        vertical-align: top;\n",
       "    }\n",
       "\n",
       "    .dataframe thead th {\n",
       "        text-align: right;\n",
       "    }\n",
       "</style>\n",
       "<table border=\"1\" class=\"dataframe\">\n",
       "  <thead>\n",
       "    <tr style=\"text-align: right;\">\n",
       "      <th></th>\n",
       "      <th>Datetime</th>\n",
       "      <th>Close</th>\n",
       "    </tr>\n",
       "  </thead>\n",
       "  <tbody>\n",
       "    <tr>\n",
       "      <th>0</th>\n",
       "      <td>2021-01-28 09:15:00</td>\n",
       "      <td>1910</td>\n",
       "    </tr>\n",
       "    <tr>\n",
       "      <th>1</th>\n",
       "      <td>2021-01-28 10:15:00</td>\n",
       "      <td>1905</td>\n",
       "    </tr>\n",
       "    <tr>\n",
       "      <th>2</th>\n",
       "      <td>2021-01-28 11:15:00</td>\n",
       "      <td>1899</td>\n",
       "    </tr>\n",
       "    <tr>\n",
       "      <th>3</th>\n",
       "      <td>2021-01-28 12:15:00</td>\n",
       "      <td>1881</td>\n",
       "    </tr>\n",
       "    <tr>\n",
       "      <th>4</th>\n",
       "      <td>2021-01-28 13:15:00</td>\n",
       "      <td>1886</td>\n",
       "    </tr>\n",
       "  </tbody>\n",
       "</table>\n",
       "</div>"
      ],
      "text/plain": [
       "              Datetime  Close\n",
       "0  2021-01-28 09:15:00   1910\n",
       "1  2021-01-28 10:15:00   1905\n",
       "2  2021-01-28 11:15:00   1899\n",
       "3  2021-01-28 12:15:00   1881\n",
       "4  2021-01-28 13:15:00   1886"
      ]
     },
     "execution_count": 17,
     "metadata": {},
     "output_type": "execute_result"
    }
   ],
   "source": [
    "df.head()"
   ]
  },
  {
   "cell_type": "code",
   "execution_count": 18,
   "metadata": {},
   "outputs": [
    {
     "name": "stdout",
     "output_type": "stream",
     "text": [
      "3 0.17202911876130067\n",
      "4 0.30831213374066335\n"
     ]
    }
   ],
   "source": [
    "dif = df['Close']\n",
    "# dif = dif.diff().diff().dropna()\n",
    "# # sb.lineplot(data = np.array(df['Close']))\n",
    "# plt.plot(dif)\n",
    "for i in range(1,5):\n",
    "    dif = dif.diff().dropna()\n",
    "    result = acf(dif)\n",
    "    # print('Count :',len(result))\n",
    "    c = 0\n",
    "    s = 0\n",
    "    for a in result[1:]:\n",
    "        if a > 0.05:\n",
    "            c = c + 1\n",
    "            s = s + a\n",
    "            # print(i,a)\n",
    "    # plt.plot(dif)\n",
    "    x = s/c\n",
    "    # print('C :',i,s,c,x)\n",
    "    for a in result[1:]:\n",
    "        if a > x:\n",
    "            print(i,a)\n",
    "    # fig, (ax1, ax2) = plt.subplots(1, 2, figsize=(15,5))\n",
    "    # ax1.plot(dif)\n",
    "    # ax1.set_title('Difference '+str(i))\n",
    "    # plot_acf(dif, ax=ax2);\n",
    "    \n",
    "    # fig, (ax1, ax2) = plt.subplots(1, 2, figsize=(15,5))\n",
    "\n",
    "    # ax1.plot(dif)\n",
    "    # ax1.set_title('Difference '+str(i))\n",
    "    # plot_pacf(dif, ax=ax2);"
   ]
  },
  {
   "cell_type": "code",
   "execution_count": 20,
   "metadata": {},
   "outputs": [
    {
     "name": "stdout",
     "output_type": "stream",
     "text": [
      "0 1 0\n",
      "0 2 0\n",
      "25 3 2\n"
     ]
    }
   ],
   "source": [
    "dif = df['Close']\n",
    "\n",
    "for d in range(1,5):\n",
    "    dif = dif.diff().dropna()\n",
    "    result = acf(dif)\n",
    "    p = 0\n",
    "    q = 0\n",
    "    c = 0\n",
    "    s = 0\n",
    "    for a in result[1:]:\n",
    "        if a > 0.05:\n",
    "            c = c + 1\n",
    "            s = s + a\n",
    "            \n",
    "    x = s/c\n",
    "    flag = False\n",
    "    for a in result[1:]:\n",
    "        if a > x:\n",
    "            flag = True\n",
    "            q = list(result).index(a)\n",
    "            break\n",
    "    \n",
    "    if flag:\n",
    "        result = pacf(dif)\n",
    "        for a in result[1:]:\n",
    "            if a > 0.05:\n",
    "                p = list(result).index(a)\n",
    "                break\n",
    "    print(p,d,q)\n",
    "    if p > 0:\n",
    "        break"
   ]
  }
 ],
 "metadata": {
  "kernelspec": {
   "display_name": "myenv",
   "language": "python",
   "name": "python3"
  },
  "language_info": {
   "codemirror_mode": {
    "name": "ipython",
    "version": 3
   },
   "file_extension": ".py",
   "mimetype": "text/x-python",
   "name": "python",
   "nbconvert_exporter": "python",
   "pygments_lexer": "ipython3",
   "version": "3.8.10 (default, Nov 14 2022, 12:59:47) \n[GCC 9.4.0]"
  },
  "orig_nbformat": 4,
  "vscode": {
   "interpreter": {
    "hash": "f00235ca8826c43340737102950d6a5b206157bc8b0b41698fe69d625eb1a17d"
   }
  }
 },
 "nbformat": 4,
 "nbformat_minor": 2
}
