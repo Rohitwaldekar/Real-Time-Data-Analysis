{
 "cells": [
  {
   "cell_type": "code",
   "execution_count": 2,
   "metadata": {},
   "outputs": [],
   "source": [
    "import pandas as pd\n",
    "import pathlib\n",
    "import yfinance as yf"
   ]
  },
  {
   "cell_type": "code",
   "execution_count": 3,
   "metadata": {},
   "outputs": [
    {
     "name": "stdout",
     "output_type": "stream",
     "text": [
      "[*********************100%***********************]  1 of 1 completed\n"
     ]
    }
   ],
   "source": [
    "path = pathlib.Path('D:\\Data Science\\Real-Time-Data-Analysis\\data\\\\raw\\data.csv')\n",
    "data = yf.download(tickers = \"AAPL\", start=\"2022-01-01\", end=\"2022-04-30\" ,interval=\"1h\")\n",
    "    "
   ]
  },
  {
   "cell_type": "code",
   "execution_count": 4,
   "metadata": {},
   "outputs": [
    {
     "data": {
      "text/html": [
       "<div>\n",
       "<style scoped>\n",
       "    .dataframe tbody tr th:only-of-type {\n",
       "        vertical-align: middle;\n",
       "    }\n",
       "\n",
       "    .dataframe tbody tr th {\n",
       "        vertical-align: top;\n",
       "    }\n",
       "\n",
       "    .dataframe thead th {\n",
       "        text-align: right;\n",
       "    }\n",
       "</style>\n",
       "<table border=\"1\" class=\"dataframe\">\n",
       "  <thead>\n",
       "    <tr style=\"text-align: right;\">\n",
       "      <th></th>\n",
       "      <th>Open</th>\n",
       "      <th>High</th>\n",
       "      <th>Low</th>\n",
       "      <th>Close</th>\n",
       "      <th>Adj Close</th>\n",
       "      <th>Volume</th>\n",
       "    </tr>\n",
       "  </thead>\n",
       "  <tbody>\n",
       "    <tr>\n",
       "      <th>2022-01-03 09:30:00</th>\n",
       "      <td>177.830002</td>\n",
       "      <td>181.429993</td>\n",
       "      <td>177.710007</td>\n",
       "      <td>180.839996</td>\n",
       "      <td>180.839996</td>\n",
       "      <td>25170269</td>\n",
       "    </tr>\n",
       "    <tr>\n",
       "      <th>2022-01-03 10:30:00</th>\n",
       "      <td>180.850006</td>\n",
       "      <td>181.770004</td>\n",
       "      <td>180.389999</td>\n",
       "      <td>181.749893</td>\n",
       "      <td>181.749893</td>\n",
       "      <td>11976542</td>\n",
       "    </tr>\n",
       "    <tr>\n",
       "      <th>2022-01-03 11:30:00</th>\n",
       "      <td>181.750000</td>\n",
       "      <td>181.770004</td>\n",
       "      <td>181.074997</td>\n",
       "      <td>181.600006</td>\n",
       "      <td>181.600006</td>\n",
       "      <td>8143152</td>\n",
       "    </tr>\n",
       "    <tr>\n",
       "      <th>2022-01-03 12:30:00</th>\n",
       "      <td>181.595001</td>\n",
       "      <td>182.279007</td>\n",
       "      <td>181.490005</td>\n",
       "      <td>182.229706</td>\n",
       "      <td>182.229706</td>\n",
       "      <td>8407914</td>\n",
       "    </tr>\n",
       "    <tr>\n",
       "      <th>2022-01-03 13:30:00</th>\n",
       "      <td>182.225006</td>\n",
       "      <td>182.880005</td>\n",
       "      <td>181.809998</td>\n",
       "      <td>181.865005</td>\n",
       "      <td>181.865005</td>\n",
       "      <td>11618629</td>\n",
       "    </tr>\n",
       "  </tbody>\n",
       "</table>\n",
       "</div>"
      ],
      "text/plain": [
       "                           Open        High         Low       Close  \\\n",
       "2022-01-03 09:30:00  177.830002  181.429993  177.710007  180.839996   \n",
       "2022-01-03 10:30:00  180.850006  181.770004  180.389999  181.749893   \n",
       "2022-01-03 11:30:00  181.750000  181.770004  181.074997  181.600006   \n",
       "2022-01-03 12:30:00  181.595001  182.279007  181.490005  182.229706   \n",
       "2022-01-03 13:30:00  182.225006  182.880005  181.809998  181.865005   \n",
       "\n",
       "                      Adj Close    Volume  \n",
       "2022-01-03 09:30:00  180.839996  25170269  \n",
       "2022-01-03 10:30:00  181.749893  11976542  \n",
       "2022-01-03 11:30:00  181.600006   8143152  \n",
       "2022-01-03 12:30:00  182.229706   8407914  \n",
       "2022-01-03 13:30:00  181.865005  11618629  "
      ]
     },
     "execution_count": 4,
     "metadata": {},
     "output_type": "execute_result"
    }
   ],
   "source": [
    "data.head()"
   ]
  },
  {
   "cell_type": "code",
   "execution_count": 5,
   "metadata": {},
   "outputs": [
    {
     "name": "stdout",
     "output_type": "stream",
     "text": [
      "<class 'pandas.core.frame.DataFrame'>\n",
      "DatetimeIndex: 574 entries, 2022-01-03 09:30:00 to 2022-04-29 15:30:00\n",
      "Data columns (total 6 columns):\n",
      " #   Column     Non-Null Count  Dtype  \n",
      "---  ------     --------------  -----  \n",
      " 0   Open       574 non-null    float64\n",
      " 1   High       574 non-null    float64\n",
      " 2   Low        574 non-null    float64\n",
      " 3   Close      574 non-null    float64\n",
      " 4   Adj Close  574 non-null    float64\n",
      " 5   Volume     574 non-null    int64  \n",
      "dtypes: float64(5), int64(1)\n",
      "memory usage: 31.4 KB\n"
     ]
    }
   ],
   "source": [
    "data.info()"
   ]
  },
  {
   "cell_type": "code",
   "execution_count": 8,
   "metadata": {},
   "outputs": [],
   "source": [
    "data.reset_index(inplace=True)"
   ]
  },
  {
   "cell_type": "code",
   "execution_count": 9,
   "metadata": {},
   "outputs": [
    {
     "name": "stdout",
     "output_type": "stream",
     "text": [
      "<class 'pandas.core.frame.DataFrame'>\n",
      "RangeIndex: 574 entries, 0 to 573\n",
      "Data columns (total 7 columns):\n",
      " #   Column     Non-Null Count  Dtype         \n",
      "---  ------     --------------  -----         \n",
      " 0   index      574 non-null    datetime64[ns]\n",
      " 1   Open       574 non-null    float64       \n",
      " 2   High       574 non-null    float64       \n",
      " 3   Low        574 non-null    float64       \n",
      " 4   Close      574 non-null    float64       \n",
      " 5   Adj Close  574 non-null    float64       \n",
      " 6   Volume     574 non-null    int64         \n",
      "dtypes: datetime64[ns](1), float64(5), int64(1)\n",
      "memory usage: 31.5 KB\n"
     ]
    }
   ],
   "source": [
    "data.info()"
   ]
  },
  {
   "cell_type": "code",
   "execution_count": null,
   "metadata": {},
   "outputs": [],
   "source": []
  }
 ],
 "metadata": {
  "kernelspec": {
   "display_name": "Python 3.11.0 ('myenv': venv)",
   "language": "python",
   "name": "python3"
  },
  "language_info": {
   "codemirror_mode": {
    "name": "ipython",
    "version": 3
   },
   "file_extension": ".py",
   "mimetype": "text/x-python",
   "name": "python",
   "nbconvert_exporter": "python",
   "pygments_lexer": "ipython3",
   "version": "3.10.4"
  },
  "orig_nbformat": 4,
  "vscode": {
   "interpreter": {
    "hash": "6367d9b3af230e6c1ac1c1437c804d01e148f9dbef4749d2fce143b6079d84c8"
   }
  }
 },
 "nbformat": 4,
 "nbformat_minor": 2
}
